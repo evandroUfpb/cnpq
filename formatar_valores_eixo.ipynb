{
 "cells": [
  {
   "metadata": {},
   "cell_type": "markdown",
   "source": "### para formatação de valores nos eixos",
   "id": "eb00096d1ccc7e5f"
  },
  {
   "cell_type": "code",
   "id": "initial_id",
   "metadata": {
    "collapsed": true
   },
   "source": [
    "from matplotlib.ticker import FuncFormatter\n",
    "\n",
    "# Função para formatar os valores\n",
    "def format_large_values(value, _):\n",
    "    return f'{value:,.0f}'  # Formata com vírgulas e sem casas decimais\n",
    "\n",
    "# Configurando o eixo y\n",
    "ax.yaxis.set_major_formatter(FuncFormatter(format_large_values))"
   ],
   "outputs": [],
   "execution_count": null
  },
  {
   "metadata": {},
   "cell_type": "code",
   "source": "",
   "id": "c507cf6794264de8",
   "outputs": [],
   "execution_count": null
  },
  {
   "metadata": {},
   "cell_type": "code",
   "source": [
    "def billions_formatter(value, _):\n",
    "    return f'{value / 1e9:.1f}B'  # Formata em bilhões com uma casa decimal\n",
    "\n",
    "ax.yaxis.set_major_formatter(FuncFormatter(billions_formatter))\n"
   ],
   "id": "a641f779925ea712",
   "outputs": [],
   "execution_count": null
  },
  {
   "metadata": {},
   "cell_type": "code",
   "source": "",
   "id": "92753b51ee193c3",
   "outputs": [],
   "execution_count": null
  },
  {
   "metadata": {},
   "cell_type": "code",
   "source": "ax.ticklabel_format(style='scientific', axis='y', scilimits=(0, 0))",
   "id": "2bf3b5bfff2a4d6c",
   "outputs": [],
   "execution_count": null
  }
 ],
 "metadata": {
  "kernelspec": {
   "display_name": "Python 3",
   "language": "python",
   "name": "python3"
  },
  "language_info": {
   "codemirror_mode": {
    "name": "ipython",
    "version": 2
   },
   "file_extension": ".py",
   "mimetype": "text/x-python",
   "name": "python",
   "nbconvert_exporter": "python",
   "pygments_lexer": "ipython2",
   "version": "2.7.6"
  }
 },
 "nbformat": 4,
 "nbformat_minor": 5
}
